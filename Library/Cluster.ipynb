{
 "cells": [
  {
   "cell_type": "code",
   "execution_count": null,
   "metadata": {},
   "outputs": [],
   "source": [
    "def get_vhs(x, y, energy):\n",
    "    # Returns cluster volume, height, size, x coordinate of height and y coordinate of height\n",
    "    idx = np.argmax(energy)\n",
    "    return sum(energy), np.max(energy), len(energy), x[idx], y[idx]\n",
    "\n",
    "def centroid(x, y):\n",
    "    # Returns unweighted centroid of the cluster\n",
    "    return (np.mean(x), np.mean(y))\n",
    "\n",
    "def centroid_weighted(x, y, energy):\n",
    "    # Returns energy weighted centroid of the cluster\n",
    "    x = np.array(x)\n",
    "    y = np.array(y)\n",
    "    energy = np.array(energy)\n",
    "    Cx = sum(x * energy)\n",
    "    Cy = sum(y * energy)\n",
    "    weight = sum(energy)\n",
    "    Cx = int(round(Cx / weight, 0))\n",
    "    Cy = int(round(Cy / weight, 0))\n",
    "    return Cx, Cy\n",
    "\n",
    "def hot_pixel_excluded(energy):\n",
    "    # Returns cluster volume the cluster without the hottest pixel and the height of the second brightest pixel\n",
    "    if len(energy) == 1:\n",
    "        return sum(energy), max(energy)\n",
    "    energy.remove(max(energy))\n",
    "    return sum(energy), max(energy)\n",
    "\n",
    "def decalibrate_pixel(energy, a, b, c, t):\n",
    "    # Decalibrates the pixel energy from keV to ToT\n",
    "    out = (a * np.array(energy) + b - (c / (np.array(energy) - t))) + 0.5\n",
    "    out = out.astype(int)\n",
    "    return out"
   ]
  }
 ],
 "metadata": {
  "kernelspec": {
   "display_name": "Python 3",
   "language": "python",
   "name": "ipython_py3"
  },
  "language_info": {
   "codemirror_mode": {
    "name": "ipython",
    "version": 3
   },
   "file_extension": ".py",
   "mimetype": "text/x-python",
   "name": "python",
   "nbconvert_exporter": "python",
   "pygments_lexer": "ipython3",
   "version": "3.7.6"
  }
 },
 "nbformat": 4,
 "nbformat_minor": 4
}

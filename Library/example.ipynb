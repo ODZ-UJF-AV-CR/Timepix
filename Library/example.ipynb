{
 "cells": [
  {
   "cell_type": "code",
   "execution_count": 3,
   "metadata": {},
   "outputs": [],
   "source": [
    "%run /home/sommema4/git/Timepix/Timepix_library/Timepix.ipynb\n",
    "%run /home/sommema4/git/Timepix/Timepix_library/Cluster.ipynb\n",
    "import numpy as np\n",
    "import pandas as pd\n",
    "import matplotlib.pyplot as plt\n",
    "import os\n",
    "\n",
    "def main():\n",
    "    filename = '/storage/private/sommema4/Experiments/2020_HIMAC/160_H/Timepix/H08/Data_90V_01.clog'\n",
    "    outfile = '/storage/private/sommema4/Experiments/2020_HIMAC/160_H/Timepix/H08/160H_90V.csv'\n",
    "    \n",
    "    #dic = {'frame', 'unix', 'shutter', 'volume', 'height', 'size', 'x_max', 'y_max'}\n",
    "    \n",
    "    tokens = ['volume', 'height', 'size']\n",
    "    data = read_clog(filename)\n",
    "    df = to_dataframe(data, tokens)\n",
    "    df.to_csv(outfile)\n",
    "    \n",
    "    \n",
    "    \n",
    "main()"
   ]
  },
  {
   "cell_type": "code",
   "execution_count": null,
   "metadata": {},
   "outputs": [],
   "source": []
  }
 ],
 "metadata": {
  "kernelspec": {
   "display_name": "Python 3",
   "language": "python",
   "name": "ipython_py3"
  },
  "language_info": {
   "codemirror_mode": {
    "name": "ipython",
    "version": 3
   },
   "file_extension": ".py",
   "mimetype": "text/x-python",
   "name": "python",
   "nbconvert_exporter": "python",
   "pygments_lexer": "ipython3",
   "version": "3.7.6"
  }
 },
 "nbformat": 4,
 "nbformat_minor": 4
}

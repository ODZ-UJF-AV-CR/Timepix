{
 "cells": [
  {
   "cell_type": "code",
   "execution_count": 8,
   "metadata": {},
   "outputs": [
    {
     "name": "stdin",
     "output_type": "stream",
     "text": [
      "Once deleted, variables cannot be recovered. Proceed (y/[n])?  y\n"
     ]
    },
    {
     "name": "stdout",
     "output_type": "stream",
     "text": [
      "/home/sommema4/git/Timepix/Aircraft_dosimetry/Jupyter_scripts\n",
      "kacer\n",
      "data is read\n",
      "data is featured\n",
      "data is saved in ABS_Jets_2020.hdf\n"
     ]
    }
   ],
   "source": [
    "%reset\n",
    "#!/usr/bin/env python\n",
    "#-*- coding: utf-8 -*-\n",
    "import sys\n",
    "import os\n",
    "from timepix_class import Timepix\n",
    "\n",
    "def main():\n",
    "    #dirname = '/home/sommema4/git/Timepix/Aircraft_dosimetry/Data/H08_data'\n",
    "    dirname = '/home/sommema4/git/Timepix/Aircraft_dosimetry/Data/I08_data'\n",
    "    logname = os.path.join(dirname, 'settings.json')\n",
    "    print(os.getcwd())\n",
    "\n",
    "    Timepix(logname, dirname)\n",
    "\n",
    "main()\n"
   ]
  },
  {
   "cell_type": "code",
   "execution_count": null,
   "metadata": {},
   "outputs": [],
   "source": []
  },
  {
   "cell_type": "code",
   "execution_count": null,
   "metadata": {},
   "outputs": [],
   "source": []
  }
 ],
 "metadata": {
  "kernelspec": {
   "display_name": "Python 3",
   "language": "python",
   "name": "ipython_py3"
  },
  "language_info": {
   "codemirror_mode": {
    "name": "ipython",
    "version": 3
   },
   "file_extension": ".py",
   "mimetype": "text/x-python",
   "name": "python",
   "nbconvert_exporter": "python",
   "pygments_lexer": "ipython3",
   "version": "3.7.6"
  }
 },
 "nbformat": 4,
 "nbformat_minor": 4
}
